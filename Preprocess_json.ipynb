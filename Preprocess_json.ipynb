{
 "cells": [
  {
   "cell_type": "code",
   "execution_count": null,
   "metadata": {},
   "outputs": [],
   "source": [
    "##Preprocess\n",
    "from transformers import BertTokenizer, BertModel, BertForMaskedLM, BertTokenizerFast\n",
    "\n",
    "## BERT\n",
    "PRETRAINED_MODEL_NAME = \"bert-base-chinese\"\n",
    "tokenizer = BertTokenizer.from_pretrained(PRETRAINED_MODEL_NAME)\n",
    "\n",
    "## bert_tokenize tokenize text to id\n",
    "## run {train, dev, test set}\n",
    "import re\n",
    "import json\n",
    "json_file = \"\"\n",
    "\n",
    "with open(\"./espnet/egs/aishell/asr1/dump/train/deltafalse/data.json\", \"r\", encoding=\"utf8\") as f:\n",
    "    json_file = json.load(f)['utts']\n",
    "\n",
    "for key in json_file.keys():\n",
    "    token = tokenizer(json_file[key][\"output\"][0][\"text\"])[\"input_ids\"]\n",
    "    token = [str(i) for i in token]\n",
    "    json_file[key][\"output\"][0][\"token\"] = \" \".join(tokenizer.tokenize(json_file[key][\"output\"][0][\"text\"]))\n",
    "    json_file[key][\"output\"][0][\"shape\"][0] = len(token)\n",
    "    #to id\n",
    "    json_file[key][\"output\"][0][\"tokenid\"] = \" \".join(token)\n",
    "\n",
    "json_file={'utts':json_file}\n",
    "with open(\"./espnet/egs/aishell/asr1/dump/train/deltafalse/data.json\", \"w\", encoding=\"utf8\") as f:\n",
    "    f.write(json.dumps(json_file, sort_keys=True, ensure_ascii=False, indent=4))\n"
   ]
  },
  {
   "cell_type": "code",
   "execution_count": null,
   "metadata": {},
   "outputs": [],
   "source": []
  }
 ],
 "metadata": {
  "kernelspec": {
   "display_name": "Python 3",
   "language": "python",
   "name": "python3"
  },
  "language_info": {
   "codemirror_mode": {
    "name": "ipython",
    "version": 3
   },
   "file_extension": ".py",
   "mimetype": "text/x-python",
   "name": "python",
   "nbconvert_exporter": "python",
   "pygments_lexer": "ipython3",
   "version": "3.7.6"
  }
 },
 "nbformat": 4,
 "nbformat_minor": 4
}
